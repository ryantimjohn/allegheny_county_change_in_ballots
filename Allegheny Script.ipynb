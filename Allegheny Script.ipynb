{
 "cells": [
  {
   "cell_type": "code",
   "execution_count": 7,
   "metadata": {},
   "outputs": [],
   "source": [
    "import geopandas\n",
    "import os\n",
    "import pandas\n",
    "import shutil"
   ]
  },
  {
   "cell_type": "code",
   "execution_count": 8,
   "metadata": {},
   "outputs": [],
   "source": [
    "ac_shp = geopandas.read_file('Allegheny_County_Voting_District_Boundaries.shp')"
   ]
  },
  {
   "cell_type": "code",
   "execution_count": 9,
   "metadata": {},
   "outputs": [],
   "source": [
    "ac_cit = pandas.read_csv(\"Alleghany_county_turnout - Presidential.csv\")\n",
    "ac_cit['Muni_War_1'] = ac_cit['Precinct 2020']\n",
    "ac_cit['Change in Ballots Cast from 2016 to 2020'] = ac_cit['Ballots Cast 2020'] - ac_cit['Ballots Cast 2016']\n",
    "ac_cit = ac_cit[['Muni_War_1','Change in Ballots Cast from 2016 to 2020','Ballots Cast 2016','Ballots Cast 2020']]\n",
    "ac_cit = ac_cit.rename(columns={'Ballots Cast 2016':'2016 Ballots Cast','Ballots Cast 2020':'2020 Ballots Cast'})"
   ]
  },
  {
   "cell_type": "code",
   "execution_count": 10,
   "metadata": {},
   "outputs": [],
   "source": [
    "ac_shp['Muni_War_1'] = ac_shp['Muni_War_1'].str.strip().replace(r'\\s+',  ' ', regex=True)\n",
    "ac_cit['Muni_War_1'] = ac_cit['Muni_War_1'].str.strip().replace(r'\\s+',  ' ', regex=True)"
   ]
  },
  {
   "cell_type": "code",
   "execution_count": 11,
   "metadata": {},
   "outputs": [],
   "source": [
    "ac_shp = ac_shp.drop(ac_shp.columns[0:12],axis=1)"
   ]
  },
  {
   "cell_type": "code",
   "execution_count": 12,
   "metadata": {},
   "outputs": [],
   "source": [
    "ac_comb = ac_shp.merge(ac_cit, on='Muni_War_1')\n",
    "ac_comb['Precinct']=ac_comb['Muni_War_1']\n",
    "ac_comb = ac_comb.drop('Muni_War_1',axis=1)"
   ]
  },
  {
   "cell_type": "code",
   "execution_count": 13,
   "metadata": {},
   "outputs": [
    {
     "data": {
      "text/plain": [
       "1"
      ]
     },
     "execution_count": 13,
     "metadata": {},
     "output_type": "execute_result"
    }
   ],
   "source": [
    "ac_comb['Change in Ballots Cast from 2016 to 2020'].isnull().sum()"
   ]
  },
  {
   "cell_type": "code",
   "execution_count": 14,
   "metadata": {},
   "outputs": [],
   "source": [
    "if not os.path.isdir('Alleghany County Change in Ballots Cast from 2016 to 2020'):\n",
    "    os.mkdir('Alleghany County Change in Ballots Cast from 2016 to 2020')\n",
    "os.chdir('Alleghany County Change in Ballots Cast from 2016 to 2020')"
   ]
  },
  {
   "cell_type": "code",
   "execution_count": 15,
   "metadata": {},
   "outputs": [],
   "source": [
    "ac_comb.to_file(\"Alleghany County Change in Ballots Cast from 2016 to 2020.shp\")"
   ]
  },
  {
   "cell_type": "code",
   "execution_count": 16,
   "metadata": {},
   "outputs": [
    {
     "data": {
      "text/plain": [
       "'C:\\\\Users\\\\John\\\\Desktop\\\\Allegheny_County_Voting_District_Boundaries-shp\\\\Alleghany County Change in Ballots Cast from 2016 to 2020.zip'"
      ]
     },
     "execution_count": 16,
     "metadata": {},
     "output_type": "execute_result"
    }
   ],
   "source": [
    "os.chdir('..')\n",
    "shutil.make_archive('Alleghany County Change in Ballots Cast from 2016 to 2020','zip','Alleghany County Change in Ballots Cast from 2016 to 2020')"
   ]
  },
  {
   "cell_type": "code",
   "execution_count": null,
   "metadata": {},
   "outputs": [],
   "source": []
  }
 ],
 "metadata": {
  "kernelspec": {
   "display_name": "Python 3",
   "language": "python",
   "name": "python3"
  },
  "language_info": {
   "codemirror_mode": {
    "name": "ipython",
    "version": 3
   },
   "file_extension": ".py",
   "mimetype": "text/x-python",
   "name": "python",
   "nbconvert_exporter": "python",
   "pygments_lexer": "ipython3",
   "version": "3.7.4"
  }
 },
 "nbformat": 4,
 "nbformat_minor": 2
}
